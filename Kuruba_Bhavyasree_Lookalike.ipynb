{
 "cells": [
  {
   "cell_type": "code",
   "execution_count": 2,
   "id": "df6fd207",
   "metadata": {},
   "outputs": [],
   "source": [
    "import pandas as pd\n",
    "\n",
    "# Load datasets\n",
    "customers = pd.read_csv(\"Customers.csv\")\n",
    "products = pd.read_csv(\"Products.csv\")\n",
    "transactions = pd.read_csv(\"Transactions.csv\")\n",
    "\n",
    "# Merge datasets\n",
    "merged_data = transactions.merge(customers, on=\"CustomerID\").merge(products, on=\"ProductID\")\n"
   ]
  },
  {
   "cell_type": "code",
   "execution_count": 3,
   "id": "aa32d4f1",
   "metadata": {},
   "outputs": [
    {
     "name": "stdout",
     "output_type": "stream",
     "text": [
      "            total_spent  transaction_count  avg_transaction_value  Books  \\\n",
      "CustomerID                                                                 \n",
      "C0001           3354.52                  5                670.904      1   \n",
      "C0002           1862.74                  4                465.685      0   \n",
      "C0003           2725.38                  4                681.345      0   \n",
      "C0004           5354.88                  8                669.360      3   \n",
      "C0005           2034.24                  3                678.080      0   \n",
      "\n",
      "            Clothing  Electronics  Home Decor  \n",
      "CustomerID                                     \n",
      "C0001              0            3           1  \n",
      "C0002              2            0           2  \n",
      "C0003              1            1           2  \n",
      "C0004              0            2           3  \n",
      "C0005              0            2           1  \n"
     ]
    }
   ],
   "source": [
    "customer_features = merged_data.groupby('CustomerID').agg(\n",
    "    total_spent=('TotalValue', 'sum'),\n",
    "    transaction_count=('TransactionID', 'count'),\n",
    "    avg_transaction_value=('TotalValue', 'mean')\n",
    ")\n",
    "\n",
    "# One-hot encode product categories\n",
    "category_preferences = pd.crosstab(merged_data['CustomerID'], merged_data['Category'])\n",
    "\n",
    "# Combine features\n",
    "customer_profiles = pd.concat([customer_features, category_preferences], axis=1)\n",
    "print(customer_profiles.head())\n"
   ]
  },
  {
   "cell_type": "code",
   "execution_count": 4,
   "id": "a81a36d9",
   "metadata": {},
   "outputs": [],
   "source": [
    "from sklearn.preprocessing import StandardScaler\n",
    "\n",
    "scaler = StandardScaler()\n",
    "customer_profiles_scaled = scaler.fit_transform(customer_profiles)\n"
   ]
  },
  {
   "cell_type": "code",
   "execution_count": 5,
   "id": "42665da2",
   "metadata": {},
   "outputs": [],
   "source": [
    "from sklearn.metrics.pairwise import cosine_similarity\n",
    "\n",
    "similarity_matrix = cosine_similarity(customer_profiles_scaled)\n",
    "similarity_df = pd.DataFrame(similarity_matrix, index=customer_profiles.index, columns=customer_profiles.index)\n"
   ]
  },
  {
   "cell_type": "code",
   "execution_count": 14,
   "id": "62b1fe5f",
   "metadata": {},
   "outputs": [
    {
     "data": {
      "text/html": [
       "<div>\n",
       "<style scoped>\n",
       "    .dataframe tbody tr th:only-of-type {\n",
       "        vertical-align: middle;\n",
       "    }\n",
       "\n",
       "    .dataframe tbody tr th {\n",
       "        vertical-align: top;\n",
       "    }\n",
       "\n",
       "    .dataframe thead th {\n",
       "        text-align: right;\n",
       "    }\n",
       "</style>\n",
       "<table border=\"1\" class=\"dataframe\">\n",
       "  <thead>\n",
       "    <tr style=\"text-align: right;\">\n",
       "      <th></th>\n",
       "      <th>CustomerID</th>\n",
       "      <th>Top_3_Lookalikes</th>\n",
       "    </tr>\n",
       "  </thead>\n",
       "  <tbody>\n",
       "    <tr>\n",
       "      <th>0</th>\n",
       "      <td>C0001</td>\n",
       "      <td>[(C0069, 0.9407645268782764), (C0127, 0.846413...</td>\n",
       "    </tr>\n",
       "    <tr>\n",
       "      <th>1</th>\n",
       "      <td>C0002</td>\n",
       "      <td>[(C0103, 0.9042642927981942), (C0062, 0.899619...</td>\n",
       "    </tr>\n",
       "    <tr>\n",
       "      <th>2</th>\n",
       "      <td>C0003</td>\n",
       "      <td>[(C0166, 0.9735807428089185), (C0031, 0.891795...</td>\n",
       "    </tr>\n",
       "    <tr>\n",
       "      <th>3</th>\n",
       "      <td>C0004</td>\n",
       "      <td>[(C0122, 0.9053011527825046), (C0113, 0.901179...</td>\n",
       "    </tr>\n",
       "    <tr>\n",
       "      <th>4</th>\n",
       "      <td>C0005</td>\n",
       "      <td>[(C0197, 0.9973329264482712), (C0007, 0.926480...</td>\n",
       "    </tr>\n",
       "  </tbody>\n",
       "</table>\n",
       "</div>"
      ],
      "text/plain": [
       "  CustomerID                                   Top_3_Lookalikes\n",
       "0      C0001  [(C0069, 0.9407645268782764), (C0127, 0.846413...\n",
       "1      C0002  [(C0103, 0.9042642927981942), (C0062, 0.899619...\n",
       "2      C0003  [(C0166, 0.9735807428089185), (C0031, 0.891795...\n",
       "3      C0004  [(C0122, 0.9053011527825046), (C0113, 0.901179...\n",
       "4      C0005  [(C0197, 0.9973329264482712), (C0007, 0.926480..."
      ]
     },
     "execution_count": 14,
     "metadata": {},
     "output_type": "execute_result"
    }
   ],
   "source": [
    "lookalikes = {}\n",
    "for customer_id in customer_profiles.index[:20]:  # First 20 customers\n",
    "    similar_customers = similarity_df[customer_id].sort_values(ascending=False)[1:4]\n",
    "    lookalikes[customer_id] = [(sim_id, sim_score) for sim_id, sim_score in similar_customers.items()]\n",
    "\n",
    "# Create the final DataFrame for Lookalike.csv\n",
    "lookalike_df = pd.DataFrame(list(lookalike_data.items()), columns=['CustomerID', 'Top_3_Lookalikes'])\n",
    "\n",
    "# Save the results to Lookalike.csv\n",
    "lookalike_df.to_csv('Kuruba_Bhavyasree_Lookalike.csv', index=False)\n",
    "\n",
    "# Show the results\n",
    "lookalike_df.head()\n"
   ]
  },
  {
   "cell_type": "code",
   "execution_count": null,
   "id": "19b6b141",
   "metadata": {},
   "outputs": [],
   "source": [
    "\n"
   ]
  },
  {
   "cell_type": "code",
   "execution_count": null,
   "id": "60c33706",
   "metadata": {},
   "outputs": [],
   "source": []
  }
 ],
 "metadata": {
  "kernelspec": {
   "display_name": "Python 3 (ipykernel)",
   "language": "python",
   "name": "python3"
  },
  "language_info": {
   "codemirror_mode": {
    "name": "ipython",
    "version": 3
   },
   "file_extension": ".py",
   "mimetype": "text/x-python",
   "name": "python",
   "nbconvert_exporter": "python",
   "pygments_lexer": "ipython3",
   "version": "3.11.5"
  }
 },
 "nbformat": 4,
 "nbformat_minor": 5
}
